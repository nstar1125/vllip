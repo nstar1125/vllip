{
 "cells": [
  {
   "cell_type": "markdown",
   "id": "5bd2fc50",
   "metadata": {},
   "source": [
    "# 클러스터링 이미지 저장"
   ]
  },
  {
   "cell_type": "code",
   "execution_count": 2,
   "id": "567c8d59",
   "metadata": {},
   "outputs": [
    {
     "name": "stdout",
     "output_type": "stream",
     "text": [
      "[1 4 1 1 1 4 1 1 0 1 1 4 1 1 4 1 1 1 1 1 1 1 4 1 1 1 1 1 1 1 1 1 4 4 4 4 4\n",
      " 4 4 4 4 4 2 4 4 4 4 4 4 4 4 1 1 1 1 0 1 4 1 1 0 0 0 0 0 0 0 0 0 0 0 0 0 0\n",
      " 0 0 0 0 0 0 0 0 0 0 0 0 0 0 0 0 0 0 0 0 0 0 0 0 0 0 0 0 0 2 2 2 2 2 2 2 2\n",
      " 2 2 2 2 2 2 2 2 2 2 2 2 2 2 2 2 2 2 2 2 2 2 2 2 2 2 4 4 4 4 4 4 4 4 4 4 4\n",
      " 4 4 4 4 4 4 4 4 1 3 3 3 3 3 3 3 3 3 3 3 3 3 3 3 3 3 3 3 3 3 3 3 3 3 3 3 3\n",
      " 3]\n"
     ]
    }
   ],
   "source": [
    "import numpy as np\n",
    "from sklearn.cluster import KMeans\n",
    "#from sklearn.metrics.pairwise import cosine_similarity\n",
    "from sklearn.metrics import adjusted_rand_score\n",
    "import pickle\n",
    "import os\n",
    "import shutil\n",
    "\n",
    "\n",
    "video_name = 'TBBT_best'\n",
    "pkl_name = 'embeddings'\n",
    "\n",
    "video_info_path = f'./processed_videos/annotation/{video_name}.json'\n",
    "src_dir = f'./processed_videos/{video_name}'\n",
    "dest_dir = f'./output_scenes/{video_name}'\n",
    "pkl_path = f'./input/{pkl_name}.pkl'\n",
    "pkl_obj = open(pkl_path, 'rb')\n",
    "pkl_data = pickle.load(pkl_obj)\n",
    "pkl_obj.close()\n",
    "embeddings_raw=pkl_data[video_name] \n",
    "embeddings = [np.squeeze(np.array(row[0])) for row in embeddings_raw]\n",
    "embeddings = np.array(embeddings)\n",
    "\n",
    "optimal_k = 5\n",
    "kmeans = KMeans(n_clusters=optimal_k, random_state=0, )\n",
    "kmeans.fit(embeddings)\n",
    "cluster_labels = kmeans.labels_\n",
    "\n",
    "print(cluster_labels)"
   ]
  },
  {
   "cell_type": "code",
   "execution_count": 3,
   "id": "63a0704a",
   "metadata": {},
   "outputs": [
    {
     "name": "stdout",
     "output_type": "stream",
     "text": [
      "[0 0 0 0 0 0 0 0 0 0 0 0 0 0 0 0 0 0 0 0 0 0 0 0 0 0 0 0 0 0 0 0 1 1 1 1 1\n",
      " 1 1 1 1 1 1 1 1 1 1 1 1 1 0 0 0 0 0 0 0 0 0 0 2 2 2 2 2 2 2 2 2 2 2 2 2 2\n",
      " 2 2 2 2 2 2 2 2 2 2 2 2 2 2 2 2 2 2 2 2 2 2 2 2 2 2 2 2 2 3 3 3 3 3 3 3 3\n",
      " 3 3 3 3 3 3 3 3 3 3 3 3 3 3 3 3 3 3 3 3 3 3 3 3 3 3 0 0 0 0 0 0 0 0 0 0 0\n",
      " 0 0 0 0 0 0 0 0 0 4 4 4 4 4 4 4 4 4 4 4 4 4 4 4 4 4 4 4 4 4 4 4 4 4 4 4 4\n",
      " 4]\n"
     ]
    }
   ],
   "source": [
    "import json\n",
    "\n",
    "with open(video_info_path, 'rb') as f:\n",
    "            video_info = json.load(f)\n",
    "\n",
    "gt_labels = []\n",
    "for info in video_info[\"train\"]:\n",
    "            imdb = info['name']\n",
    "            for shot in info['label']:\n",
    "                gt_labels.append(int(shot[1]))\n",
    "gt_labels = np.array(gt_labels)\n",
    "\n",
    "print(gt_labels)"
   ]
  },
  {
   "cell_type": "code",
   "execution_count": 4,
   "id": "71a84406",
   "metadata": {},
   "outputs": [
    {
     "name": "stdout",
     "output_type": "stream",
     "text": [
      "Adjusted Rand Index (ARI): 0.7269\n"
     ]
    }
   ],
   "source": [
    "ari = adjusted_rand_score(gt_labels, cluster_labels)\n",
    "print(f\"Adjusted Rand Index (ARI): {ari:.4}\")\n",
    "\n",
    "# masked - 0.3166\n",
    "# no mask - 0.5079\n",
    "# cos-sim - 0.4374"
   ]
  },
  {
   "cell_type": "code",
   "execution_count": 5,
   "id": "41903feb",
   "metadata": {},
   "outputs": [],
   "source": [
    "if not os.path.exists(dest_dir):\n",
    "    os.makedirs(dest_dir)\n",
    "    for i in range(optimal_k):\n",
    "        clusters_dir = os.path.join(dest_dir, str(i))\n",
    "        os.makedirs(clusters_dir)\n",
    "\n",
    "    index = 0\n",
    "    for file in sorted(os.listdir(src_dir)):\n",
    "        if file.endswith(\"0.jpg\"):\n",
    "            label = cluster_labels[index]\n",
    "            src_file = os.path.join(src_dir, file)\n",
    "            dest_file = os.path.join(f\"{dest_dir}/{label}\", file)\n",
    "            shutil.copy(src_file, dest_file)\n",
    "            index+=1\n",
    "else:\n",
    "    print(\"Directory already exists.\")"
   ]
  },
  {
   "cell_type": "markdown",
   "id": "c61cfd4e",
   "metadata": {},
   "source": [
    "# 클러스터 결과 확인"
   ]
  },
  {
   "cell_type": "code",
   "execution_count": 6,
   "id": "6c360586-1e32-401a-b67f-0279b75cafdf",
   "metadata": {},
   "outputs": [],
   "source": [
    "import numpy as np\n",
    "import matplotlib.pyplot as plt\n",
    "from sklearn.cluster import KMeans\n",
    "from sklearn.metrics import silhouette_score\n",
    "import pickle"
   ]
  },
  {
   "cell_type": "code",
   "execution_count": 7,
   "id": "58e0c7fb",
   "metadata": {},
   "outputs": [],
   "source": [
    "video_name = 'TBBT_best'\n",
    "src_dir = f'./processed_videos/{video_name}'\n",
    "dest_dir = f'./output/{video_name}'\n",
    "\n",
    "#1\n",
    "pkl_name = 'embeddings'\n",
    "pkl_path = f'./input/{pkl_name}.pkl'\n",
    "pkl_obj = open(pkl_path, 'rb')\n",
    "pkl_data = pickle.load(pkl_obj)\n",
    "\n",
    "#2\n",
    "pkl_name_0 = 'no_mask'\n",
    "pkl_path_0 = f'./input/{pkl_name_0}.pkl'\n",
    "pkl_obj_0 = open(pkl_path_0, 'rb')\n",
    "pkl_data_0 = pickle.load(pkl_obj_0)\n",
    "\n",
    "pkl_obj.close()\n",
    "pkl_obj_0.close()"
   ]
  },
  {
   "cell_type": "code",
   "execution_count": 8,
   "id": "c22d9dc3",
   "metadata": {},
   "outputs": [],
   "source": [
    "#1\n",
    "embeddings_raw=pkl_data[video_name] \n",
    "embeddings = [np.squeeze(np.array(row[0])) for row in embeddings_raw]\n",
    "embeddings = np.array(embeddings)\n",
    "\n",
    "#2\n",
    "embeddings_raw_0=pkl_data_0[video_name] \n",
    "embeddings_0 = [np.squeeze(np.array(row[0])) for row in embeddings_raw_0]\n",
    "embeddings_0 = np.array(embeddings_0)"
   ]
  },
  {
   "cell_type": "code",
   "execution_count": 9,
   "metadata": {},
   "outputs": [
    {
     "name": "stdout",
     "output_type": "stream",
     "text": [
      "(186, 2)\n",
      "(186, 2)\n"
     ]
    }
   ],
   "source": [
    "#1\n",
    "from sklearn.manifold import TSNE\n",
    "tsne = TSNE(n_components=2, random_state=0)\n",
    "embeddings_tsne = tsne.fit_transform(embeddings)\n",
    "print(embeddings_tsne.shape)\n",
    "\n",
    "#2\n",
    "tsne = TSNE(n_components=2, random_state=0)\n",
    "embeddings_tsne_0 = tsne.fit_transform(embeddings_0)\n",
    "print(embeddings_tsne_0.shape)"
   ]
  },
  {
   "cell_type": "code",
   "execution_count": 10,
   "id": "a383e924",
   "metadata": {},
   "outputs": [
    {
     "data": {
      "image/png": "[encoded data removed]",
      "text/plain": [
       "<Figure size 640x480 with 1 Axes>"
      ]
     },
     "metadata": {},
     "output_type": "display_data"
    }
   ],
   "source": [
    "plt.scatter(embeddings_tsne[:, 0], embeddings_tsne[:, 1], marker='.', label=\"VLLIP\")\n",
    "plt.scatter(embeddings_tsne_0[:, 0], embeddings_tsne_0[:, 1], marker='.', label=\"SCRL\")\n",
    "plt.title(f\"Embedding space ({len(embeddings_tsne)} shots)\")\n",
    "plt.legend()\n",
    "plt.show()"
   ]
  }
 ],
 "metadata": {
  "kernelspec": {
   "display_name": "Python 3 (ipykernel)",
   "language": "python",
   "name": "python3"
  },
  "language_info": {
   "codemirror_mode": {
    "name": "ipython",
    "version": 3
   },
   "file_extension": ".py",
   "mimetype": "text/x-python",
   "name": "python",
   "nbconvert_exporter": "python",
   "pygments_lexer": "ipython3",
   "version": "3.10.12"
  }
 },
 "nbformat": 4,
 "nbformat_minor": 5
}
